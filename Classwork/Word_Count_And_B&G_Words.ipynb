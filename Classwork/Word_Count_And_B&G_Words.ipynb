{
  "nbformat": 4,
  "nbformat_minor": 0,
  "metadata": {
    "colab": {
      "name": "NLP 07-12-2019",
      "provenance": [],
      "include_colab_link": true
    },
    "kernelspec": {
      "name": "python3",
      "display_name": "Python 3"
    }
  },
  "cells": [
    {
      "cell_type": "markdown",
      "metadata": {
        "id": "view-in-github",
        "colab_type": "text"
      },
      "source": [
        "<a href=\"https://colab.research.google.com/github/sharat-shankar/NLP_J045/blob/master/Classwork/Word_Count_And_B%26G_Words.ipynb\" target=\"_parent\"><img src=\"https://colab.research.google.com/assets/colab-badge.svg\" alt=\"Open In Colab\"/></a>"
      ]
    },
    {
      "cell_type": "code",
      "metadata": {
        "id": "qqOmtsvffCYF",
        "colab_type": "code",
        "colab": {}
      },
      "source": [
        "import pandas as pd\n",
        "import re"
      ],
      "execution_count": 0,
      "outputs": []
    },
    {
      "cell_type": "code",
      "metadata": {
        "id": "q1EMao2miQms",
        "colab_type": "code",
        "colab": {}
      },
      "source": [
        "#Reading Data\n",
        "data = pd.read_json(\"http://snap.stanford.edu/data/amazon/productGraph/categoryFiles/reviews_Office_Products_5.json.gz\",lines=True)"
      ],
      "execution_count": 0,
      "outputs": []
    },
    {
      "cell_type": "markdown",
      "metadata": {
        "id": "SLkfeEWFEHMb",
        "colab_type": "text"
      },
      "source": [
        "## **Counting the Number of Vowels, Consonents and Words in a given Column**\n"
      ]
    },
    {
      "cell_type": "code",
      "metadata": {
        "id": "LX8P7ZvLiUVf",
        "colab_type": "code",
        "colab": {}
      },
      "source": [
        "vowels = ['a','e','i','o','u']\n",
        "consonants = ['b', 'c', 'd', 'f', 'g', 'h', 'j', 'k', 'l', 'm', 'n', 'p', 'q', 'r', 's', 't', 'v', 'w', 'x', 'y', 'z']\n",
        "punctuations = '''!()-[]{};:'\"\\,<>./?@#$%^&*_~'''"
      ],
      "execution_count": 0,
      "outputs": []
    },
    {
      "cell_type": "code",
      "metadata": {
        "id": "kPsdr4G8i3Az",
        "colab_type": "code",
        "colab": {}
      },
      "source": [
        "def counts(str):\n",
        "    count = dict()\n",
        "    vowel_count = 0\n",
        "    consonant_count = 0\n",
        "    word_count = 0\n",
        "\n",
        "    # REMOVING PUNCTUATION FROM THE SENTENCES\n",
        "    for j in str:\n",
        "      if j in punctuations:\n",
        "        str = str.replace(j,\" \")\n",
        "\n",
        "    words = str.split()\n",
        "\n",
        "    for word in words:\n",
        "      word_count+=1\n",
        "\n",
        "    for i in str.lower():\n",
        "      if i in vowels:\n",
        "        vowel_count+=1\n",
        "      if i in consonants:\n",
        "        consonant_count+=1\n",
        "    \n",
        "    count['Vowels'] = vowel_count\n",
        "    count['Consonants'] = consonant_count\n",
        "    count['Words'] = word_count\n",
        "\n",
        "    return count"
      ],
      "execution_count": 0,
      "outputs": []
    },
    {
      "cell_type": "code",
      "metadata": {
        "id": "LPajkHExjuRP",
        "colab_type": "code",
        "colab": {}
      },
      "source": [
        "data[\"reviewTextCount\"] = data.reviewText.apply(counts)"
      ],
      "execution_count": 0,
      "outputs": []
    },
    {
      "cell_type": "code",
      "metadata": {
        "id": "YokQAWK2j9Og",
        "colab_type": "code",
        "outputId": "dee81ccf-a6e6-47b9-edda-c417f3d1dcb6",
        "colab": {
          "base_uri": "https://localhost:8080/",
          "height": 225
        }
      },
      "source": [
        "data.reviewTextCount"
      ],
      "execution_count": 23,
      "outputs": [
        {
          "output_type": "execute_result",
          "data": {
            "text/plain": [
              "0         {'Vowels': 279, 'Consonants': 437, 'Words': 195}\n",
              "1        {'Vowels': 1504, 'Consonants': 2685, 'Words': ...\n",
              "2          {'Vowels': 134, 'Consonants': 235, 'Words': 96}\n",
              "3        {'Vowels': 1089, 'Consonants': 1775, 'Words': ...\n",
              "4         {'Vowels': 208, 'Consonants': 338, 'Words': 125}\n",
              "                               ...                        \n",
              "53253     {'Vowels': 236, 'Consonants': 358, 'Words': 149}\n",
              "53254    {'Vowels': 839, 'Consonants': 1308, 'Words': 510}\n",
              "53255     {'Vowels': 422, 'Consonants': 693, 'Words': 302}\n",
              "53256     {'Vowels': 232, 'Consonants': 335, 'Words': 148}\n",
              "53257     {'Vowels': 582, 'Consonants': 901, 'Words': 349}\n",
              "Name: reviewTextCount, Length: 53258, dtype: object"
            ]
          },
          "metadata": {
            "tags": []
          },
          "execution_count": 23
        }
      ]
    },
    {
      "cell_type": "code",
      "metadata": {
        "id": "Q2rQGV0vEaHv",
        "colab_type": "code",
        "colab": {}
      },
      "source": [
        "data[\"summaryCount\"] = data.summary.apply(counts)"
      ],
      "execution_count": 0,
      "outputs": []
    },
    {
      "cell_type": "code",
      "metadata": {
        "id": "tnDO3QV5EgG_",
        "colab_type": "code",
        "outputId": "0cf3e32f-b7a2-4e6f-e70c-6a222be966a5",
        "colab": {
          "base_uri": "https://localhost:8080/",
          "height": 225
        }
      },
      "source": [
        "data.summaryCount"
      ],
      "execution_count": 25,
      "outputs": [
        {
          "output_type": "execute_result",
          "data": {
            "text/plain": [
              "0         {'Vowels': 12, 'Consonants': 20, 'Words': 7}\n",
              "1        {'Vowels': 14, 'Consonants': 31, 'Words': 13}\n",
              "2         {'Vowels': 15, 'Consonants': 25, 'Words': 8}\n",
              "3         {'Vowels': 14, 'Consonants': 22, 'Words': 9}\n",
              "4           {'Vowels': 3, 'Consonants': 9, 'Words': 3}\n",
              "                             ...                      \n",
              "53253     {'Vowels': 10, 'Consonants': 14, 'Words': 6}\n",
              "53254    {'Vowels': 32, 'Consonants': 52, 'Words': 15}\n",
              "53255     {'Vowels': 17, 'Consonants': 28, 'Words': 6}\n",
              "53256      {'Vowels': 8, 'Consonants': 11, 'Words': 4}\n",
              "53257     {'Vowels': 13, 'Consonants': 15, 'Words': 7}\n",
              "Name: summaryCount, Length: 53258, dtype: object"
            ]
          },
          "metadata": {
            "tags": []
          },
          "execution_count": 25
        }
      ]
    },
    {
      "cell_type": "markdown",
      "metadata": {
        "id": "xTz1RmlWEknG",
        "colab_type": "text"
      },
      "source": [
        "# **Finding all the words that start with B OR end with G**"
      ]
    },
    {
      "cell_type": "code",
      "metadata": {
        "id": "sxSExZffxD6t",
        "colab_type": "code",
        "colab": {}
      },
      "source": [
        "def bg_find(str):\n",
        "   \n",
        "  begin_b = re.findall(r\"\\b([bB]\\w+)\\b\",str)\n",
        "  end_g = re.findall(r\"\\b(\\w+[gG])\\b\",str)\n",
        "  begin_b_and_end_g = set(begin_b + end_g) # SET is used to pick JUST THE UNIQUE WORDS from the concatenated list.\n",
        "\n",
        "  return begin_b_and_end_g"
      ],
      "execution_count": 0,
      "outputs": []
    },
    {
      "cell_type": "code",
      "metadata": {
        "id": "E5SGFhWAxGa1",
        "colab_type": "code",
        "colab": {}
      },
      "source": [
        "data[\"Begin_B_and_End_G_RT\"] = data.reviewText.apply(bg_find)"
      ],
      "execution_count": 0,
      "outputs": []
    },
    {
      "cell_type": "code",
      "metadata": {
        "id": "wp_K5jNPBbmD",
        "colab_type": "code",
        "outputId": "7c9b12a5-3582-49f9-d9e7-4593b3db0776",
        "colab": {
          "base_uri": "https://localhost:8080/",
          "height": 225
        }
      },
      "source": [
        "data.Begin_B_and_End_G_RT"
      ],
      "execution_count": 28,
      "outputs": [
        {
          "output_type": "execute_result",
          "data": {
            "text/plain": [
              "0        {batteries, but, using, back, travelling, best...\n",
              "1        {brandname, BETTER, puzzling, best, be, disapp...\n",
              "2                    {been, giving, But, working, kicking}\n",
              "3        {beats, But, be, taking, balance, something, u...\n",
              "4        {but, best, practicing, be, purchasing, bracke...\n",
              "                               ...                        \n",
              "53253    {batteries, but, using, box, folding, because,...\n",
              "53254    {batteries, but, background, using, blue, back...\n",
              "53255    {batteries, between, but, been, box, using, ba...\n",
              "53256    {books, batteries, using, making, buttons, sen...\n",
              "53257    {between, holding, bowl, be, business, somethi...\n",
              "Name: Begin_B_and_End_G_RT, Length: 53258, dtype: object"
            ]
          },
          "metadata": {
            "tags": []
          },
          "execution_count": 28
        }
      ]
    },
    {
      "cell_type": "code",
      "metadata": {
        "id": "5Vc0tDURE7oF",
        "colab_type": "code",
        "colab": {}
      },
      "source": [
        "data[\"Begin_B_and_End_G_S\"] = data.summary.apply(bg_find)"
      ],
      "execution_count": 0,
      "outputs": []
    },
    {
      "cell_type": "code",
      "metadata": {
        "id": "X61VQVf5E_5A",
        "colab_type": "code",
        "outputId": "cd3249cb-890f-45f4-c654-47ef3b5f4be8",
        "colab": {
          "base_uri": "https://localhost:8080/",
          "height": 225
        }
      },
      "source": [
        "data.Begin_B_and_End_G_S"
      ],
      "execution_count": 30,
      "outputs": [
        {
          "output_type": "execute_result",
          "data": {
            "text/plain": [
              "0            {long}\n",
              "1            {bury}\n",
              "2             {but}\n",
              "3                {}\n",
              "4            {best}\n",
              "            ...    \n",
              "53253            {}\n",
              "53254            {}\n",
              "53255    {shipping}\n",
              "53256            {}\n",
              "53257            {}\n",
              "Name: Begin_B_and_End_G_S, Length: 53258, dtype: object"
            ]
          },
          "metadata": {
            "tags": []
          },
          "execution_count": 30
        }
      ]
    }
  ]
}