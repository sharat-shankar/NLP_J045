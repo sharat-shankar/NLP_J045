{
  "nbformat": 4,
  "nbformat_minor": 0,
  "metadata": {
    "colab": {
      "name": "NLP 10-12-2019",
      "provenance": [],
      "include_colab_link": true
    },
    "kernelspec": {
      "name": "python3",
      "display_name": "Python 3"
    }
  },
  "cells": [
    {
      "cell_type": "markdown",
      "metadata": {
        "id": "view-in-github",
        "colab_type": "text"
      },
      "source": [
        "<a href=\"https://colab.research.google.com/github/sharat-shankar/NLP_J045/blob/master/Classwork/NLTK_Tok_Lem.ipynb\" target=\"_parent\"><img src=\"https://colab.research.google.com/assets/colab-badge.svg\" alt=\"Open In Colab\"/></a>"
      ]
    },
    {
      "cell_type": "code",
      "metadata": {
        "id": "GOSkxtGD69YC",
        "colab_type": "code",
        "colab": {}
      },
      "source": [
        "import pandas as pd\n",
        "#Reading Data\n",
        "data = pd.read_json(\"http://snap.stanford.edu/data/amazon/productGraph/categoryFiles/reviews_Office_Products_5.json.gz\",lines=True)"
      ],
      "execution_count": 0,
      "outputs": []
    },
    {
      "cell_type": "code",
      "metadata": {
        "id": "ObcQX_cr7KNE",
        "colab_type": "code",
        "colab": {
          "base_uri": "https://localhost:8080/",
          "height": 155
        },
        "outputId": "9ca5373f-a8fe-4c42-d1c3-3b10065e941e"
      },
      "source": [
        "import nltk\n",
        "nltk.download('punkt')\n",
        "nltk.download('wordnet')\n",
        "nltk.download('averaged_perceptron_tagger')"
      ],
      "execution_count": 2,
      "outputs": [
        {
          "output_type": "stream",
          "text": [
            "[nltk_data] Downloading package punkt to /root/nltk_data...\n",
            "[nltk_data]   Unzipping tokenizers/punkt.zip.\n",
            "[nltk_data] Downloading package wordnet to /root/nltk_data...\n",
            "[nltk_data]   Unzipping corpora/wordnet.zip.\n",
            "[nltk_data] Downloading package averaged_perceptron_tagger to\n",
            "[nltk_data]     /root/nltk_data...\n",
            "[nltk_data]   Unzipping taggers/averaged_perceptron_tagger.zip.\n"
          ],
          "name": "stdout"
        },
        {
          "output_type": "execute_result",
          "data": {
            "text/plain": [
              "True"
            ]
          },
          "metadata": {
            "tags": []
          },
          "execution_count": 2
        }
      ]
    },
    {
      "cell_type": "code",
      "metadata": {
        "id": "N4-UmLYR8aDe",
        "colab_type": "code",
        "colab": {}
      },
      "source": [
        "def nltk_lem_tok_pos(str):\n",
        "  res = dict()\n",
        "  adj = []\n",
        "  wt = nltk.word_tokenize(str)\n",
        "  mwet = nltk.MWETokenizer()\n",
        "  mwetext = mwet.tokenize(str.split())\n",
        "  pos = nltk.pos_tag(wt)\n",
        "  lem = nltk.WordNetLemmatizer() # Only works for words with pos tags NOUN. PosTags have to be given separately for correct lemmatization\n",
        "  lemmatized_output = ' '.join([lem.lemmatize(w) for w in wt])\n",
        "  for i in pos:\n",
        "    if i[1] == 'JJ':\n",
        "      adj.append(i[0])\n",
        "\n",
        "  res[\"MWE Tokenizer\"] = mwetext\n",
        "  res[\"Word Tokenizer\"] = wt\n",
        "  res[\"Lemmatizer\"] = lemmatized_output\n",
        "  res[\"Pos Tagger\"] = pos\n",
        "  res[\"Adjectives\"] = adj\n",
        "\n",
        "  return res"
      ],
      "execution_count": 0,
      "outputs": []
    },
    {
      "cell_type": "code",
      "metadata": {
        "id": "vakhe1nt9v8C",
        "colab_type": "code",
        "colab": {}
      },
      "source": [
        "data[\"reviewTextNLTK\"] = data.reviewText.apply(nltk_lem_tok_pos)"
      ],
      "execution_count": 0,
      "outputs": []
    },
    {
      "cell_type": "code",
      "metadata": {
        "id": "aC5Iqcr-zr5n",
        "colab_type": "code",
        "colab": {
          "base_uri": "https://localhost:8080/",
          "height": 225
        },
        "outputId": "b4da2583-94de-43b5-d469-e8bcbaaedde3"
      },
      "source": [
        "data.reviewTextNLTK"
      ],
      "execution_count": 8,
      "outputs": [
        {
          "output_type": "execute_result",
          "data": {
            "text/plain": [
              "0        {'MWE Tokenizer': ['I', 'bought', 'my', 'first...\n",
              "1        {'MWE Tokenizer': ['WHY', 'THIS', 'BELATED', '...\n",
              "2        {'MWE Tokenizer': ['I', 'have', 'an', 'HP', '4...\n",
              "3        {'MWE Tokenizer': ['I've', 'started', 'doing',...\n",
              "4        {'MWE Tokenizer': ['For', 'simple', 'calculati...\n",
              "                               ...                        \n",
              "53253    {'MWE Tokenizer': ['What', 'I', 'like', 'about...\n",
              "53254    {'MWE Tokenizer': ['This', 'Accuteck', 'ShipPr...\n",
              "53255    {'MWE Tokenizer': ['I', 'ship', 'a', 'lot', 'o...\n",
              "53256    {'MWE Tokenizer': ['This', 'is', 'a', 'great',...\n",
              "53257    {'MWE Tokenizer': ['When', 'asked', 'to', 'rev...\n",
              "Name: reviewTextNLTK, Length: 53258, dtype: object"
            ]
          },
          "metadata": {
            "tags": []
          },
          "execution_count": 8
        }
      ]
    },
    {
      "cell_type": "code",
      "metadata": {
        "id": "Vr2CIz7_z5iC",
        "colab_type": "code",
        "colab": {}
      },
      "source": [
        "data[\"summaryNLTK\"] = data.summary.apply(nltk_lem_tok_pos)"
      ],
      "execution_count": 0,
      "outputs": []
    },
    {
      "cell_type": "code",
      "metadata": {
        "id": "ykL6OJ5X0RlZ",
        "colab_type": "code",
        "colab": {
          "base_uri": "https://localhost:8080/",
          "height": 225
        },
        "outputId": "3831263c-0f39-4fc1-e5d4-94850909c7e0"
      },
      "source": [
        "data.summaryNLTK"
      ],
      "execution_count": 10,
      "outputs": [
        {
          "output_type": "execute_result",
          "data": {
            "text/plain": [
              "0        {'MWE Tokenizer': ['A', 'solid', 'performer,',...\n",
              "1        {'MWE Tokenizer': ['Price', 'of', 'GOLD', 'is'...\n",
              "2        {'MWE Tokenizer': ['Good', 'functionality,', '...\n",
              "3        {'MWE Tokenizer': ['One', 'of', 'the', 'last',...\n",
              "4        {'MWE Tokenizer': ['Still', 'the', 'best'], 'W...\n",
              "                               ...                        \n",
              "53253    {'MWE Tokenizer': ['Portable', 'and', 'very', ...\n",
              "53254    {'MWE Tokenizer': ['Accuteck', 'ShipPro', 'Dig...\n",
              "53255    {'MWE Tokenizer': ['Extremely', 'accurate,', '...\n",
              "53256    {'MWE Tokenizer': ['Fast,', 'Easy', 'and', 'Ac...\n",
              "53257    {'MWE Tokenizer': ['Great', 'Value', 'on', 'a'...\n",
              "Name: summaryNLTK, Length: 53258, dtype: object"
            ]
          },
          "metadata": {
            "tags": []
          },
          "execution_count": 10
        }
      ]
    }
  ]
}