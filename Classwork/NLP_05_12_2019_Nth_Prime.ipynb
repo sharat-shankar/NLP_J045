{
  "nbformat": 4,
  "nbformat_minor": 0,
  "metadata": {
    "colab": {
      "name": "NLP 05-12-2019 Nth Prime",
      "provenance": []
    },
    "kernelspec": {
      "name": "python3",
      "display_name": "Python 3"
    }
  },
  "cells": [
    {
      "cell_type": "code",
      "metadata": {
        "id": "8sPOFUKoUNBM",
        "colab_type": "code",
        "colab": {}
      },
      "source": [
        "def prime(n):\n",
        "  a = 2\n",
        "  c = 0\n",
        "  while c!=n:\n",
        "    flag = 0\n",
        "    for i in range(2,int(a/2+1)):\n",
        "      if(a%i==0):\n",
        "        flag = 1\n",
        "    if flag == 0:\n",
        "      c+=1\n",
        "    a+=1\n",
        "  return a-1"
      ],
      "execution_count": 0,
      "outputs": []
    },
    {
      "cell_type": "code",
      "metadata": {
        "id": "1DX1CttPUZeS",
        "colab_type": "code",
        "colab": {
          "base_uri": "https://localhost:8080/",
          "height": 34
        },
        "outputId": "9fe5b047-8640-4851-9c19-79a0a75ee801"
      },
      "source": [
        "print(prime(560))"
      ],
      "execution_count": 2,
      "outputs": [
        {
          "output_type": "stream",
          "text": [
            "4057\n"
          ],
          "name": "stdout"
        }
      ]
    }
  ]
}