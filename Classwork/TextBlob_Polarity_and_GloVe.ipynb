{
  "nbformat": 4,
  "nbformat_minor": 0,
  "metadata": {
    "colab": {
      "name": "NLP 17-12-2019",
      "provenance": [],
      "collapsed_sections": [],
      "include_colab_link": true
    },
    "kernelspec": {
      "name": "python3",
      "display_name": "Python 3"
    }
  },
  "cells": [
    {
      "cell_type": "markdown",
      "metadata": {
        "id": "view-in-github",
        "colab_type": "text"
      },
      "source": [
        "<a href=\"https://colab.research.google.com/github/sharat-shankar/NLP_J045/blob/master/Classwork/TextBlob_Polarity_and_GloVe.ipynb\" target=\"_parent\"><img src=\"https://colab.research.google.com/assets/colab-badge.svg\" alt=\"Open In Colab\"/></a>"
      ]
    },
    {
      "cell_type": "code",
      "metadata": {
        "id": "R4rJ8YZU0O-T",
        "colab_type": "code",
        "colab": {}
      },
      "source": [
        "import pandas as pd\n",
        "df = pd.read_csv(\"https://raw.githubusercontent.com/zfz/twitter_corpus/master/full-corpus.csv\")"
      ],
      "execution_count": 0,
      "outputs": []
    },
    {
      "cell_type": "code",
      "metadata": {
        "id": "-kzjtk0a1TLe",
        "colab_type": "code",
        "colab": {}
      },
      "source": [
        "data = pd.read_json(\"http://snap.stanford.edu/data/amazon/productGraph/categoryFiles/reviews_Office_Products_5.json.gz\",lines=True)"
      ],
      "execution_count": 0,
      "outputs": []
    },
    {
      "cell_type": "markdown",
      "metadata": {
        "id": "wiKEN_LCdxKc",
        "colab_type": "text"
      },
      "source": [
        "# **Polarity of Amazon Reviews and Tweets using TextBlob and NLTK**\n"
      ]
    },
    {
      "cell_type": "code",
      "metadata": {
        "id": "zy-8KftL13ar",
        "colab_type": "code",
        "outputId": "86eefbd7-05e9-4bc4-9cbb-52ed79293f79",
        "colab": {
          "base_uri": "https://localhost:8080/",
          "height": 51
        }
      },
      "source": [
        "from textblob import TextBlob\n",
        "import nltk\n",
        "from nltk.sentiment.vader import SentimentIntensityAnalyzer as SIA\n",
        "nltk.download('vader_lexicon')\n",
        "sia = SIA()"
      ],
      "execution_count": 10,
      "outputs": [
        {
          "output_type": "stream",
          "text": [
            "[nltk_data] Downloading package vader_lexicon to /root/nltk_data...\n",
            "[nltk_data]   Package vader_lexicon is already up-to-date!\n"
          ],
          "name": "stdout"
        }
      ]
    },
    {
      "cell_type": "code",
      "metadata": {
        "id": "7bOufAuB4Cxp",
        "colab_type": "code",
        "colab": {}
      },
      "source": [
        "def sentiment(str):\n",
        "  text1 = TextBlob(str)\n",
        "  text2 = sia.polarity_scores(str)\n",
        "  inverse = [(value,key) for key, value in text2.items()]\n",
        "  result = {\"Text Blob\":text1.sentiment.polarity,\"NLTK\":max(inverse)}\n",
        "  return result"
      ],
      "execution_count": 0,
      "outputs": []
    },
    {
      "cell_type": "code",
      "metadata": {
        "id": "nZEqSv904gDW",
        "colab_type": "code",
        "colab": {}
      },
      "source": [
        "data[\"Sentiment\"] = data.reviewText.apply(sentiment)"
      ],
      "execution_count": 0,
      "outputs": []
    },
    {
      "cell_type": "code",
      "metadata": {
        "id": "AnhFxpr67cKO",
        "colab_type": "code",
        "outputId": "d4c05ef1-174c-4c10-e7ec-e01fe9d06b6d",
        "colab": {
          "base_uri": "https://localhost:8080/",
          "height": 225
        }
      },
      "source": [
        "data[\"Sentiment\"]"
      ],
      "execution_count": 13,
      "outputs": [
        {
          "output_type": "execute_result",
          "data": {
            "text/plain": [
              "0        {'Text Blob': 0.18000000000000002, 'NLTK': (0....\n",
              "1        {'Text Blob': 0.17093871975019514, 'NLTK': (0....\n",
              "2        {'Text Blob': 0.20409090909090905, 'NLTK': (0....\n",
              "3        {'Text Blob': 0.2142174082747853, 'NLTK': (0.9...\n",
              "4        {'Text Blob': 0.35, 'NLTK': (0.9455, 'compound')}\n",
              "                               ...                        \n",
              "53253    {'Text Blob': 0.19762820512820514, 'NLTK': (0....\n",
              "53254    {'Text Blob': 0.21251380262249825, 'NLTK': (0....\n",
              "53255    {'Text Blob': 0.12077922077922078, 'NLTK': (0....\n",
              "53256    {'Text Blob': 0.46494047619047624, 'NLTK': (0....\n",
              "53257    {'Text Blob': 0.28119047619047627, 'NLTK': (0....\n",
              "Name: Sentiment, Length: 53258, dtype: object"
            ]
          },
          "metadata": {
            "tags": []
          },
          "execution_count": 13
        }
      ]
    },
    {
      "cell_type": "code",
      "metadata": {
        "id": "JNVOnbwF6xAx",
        "colab_type": "code",
        "colab": {}
      },
      "source": [
        "df[\"Sentiments\"] = df.TweetText.apply(sentiment)"
      ],
      "execution_count": 0,
      "outputs": []
    },
    {
      "cell_type": "code",
      "metadata": {
        "id": "gJTBxUGL75ZO",
        "colab_type": "code",
        "outputId": "05fcc3f0-e5f6-431f-d61a-b48992c506d9",
        "colab": {
          "base_uri": "https://localhost:8080/",
          "height": 225
        }
      },
      "source": [
        "df[\"Sentiments\"]"
      ],
      "execution_count": 15,
      "outputs": [
        {
          "output_type": "execute_result",
          "data": {
            "text/plain": [
              "0                {'Text Blob': 0.0, 'NLTK': (1.0, 'neu')}\n",
              "1              {'Text Blob': 0.5, 'NLTK': (0.801, 'neu')}\n",
              "2       {'Text Blob': 0.39375, 'NLTK': (0.8858, 'compo...\n",
              "3       {'Text Blob': 0.5416666666666667, 'NLTK': (0.8...\n",
              "4              {'Text Blob': 0.2, 'NLTK': (0.791, 'neu')}\n",
              "                              ...                        \n",
              "5108             {'Text Blob': 0.0, 'NLTK': (1.0, 'neu')}\n",
              "5109             {'Text Blob': 0.5, 'NLTK': (0.7, 'neu')}\n",
              "5110         {'Text Blob': -0.25, 'NLTK': (0.833, 'neu')}\n",
              "5111             {'Text Blob': 0.0, 'NLTK': (1.0, 'neu')}\n",
              "5112             {'Text Blob': 0.0, 'NLTK': (1.0, 'neu')}\n",
              "Name: Sentiments, Length: 5113, dtype: object"
            ]
          },
          "metadata": {
            "tags": []
          },
          "execution_count": 15
        }
      ]
    },
    {
      "cell_type": "markdown",
      "metadata": {
        "id": "RGvRnd9teCtA",
        "colab_type": "text"
      },
      "source": [
        "# **Comparison of Actual Sentiments and Sentiments predicted using Polarity on Tweets**"
      ]
    },
    {
      "cell_type": "code",
      "metadata": {
        "id": "AkkDjQdg_M7r",
        "colab_type": "code",
        "colab": {}
      },
      "source": [
        "from sklearn.metrics import confusion_matrix"
      ],
      "execution_count": 0,
      "outputs": []
    },
    {
      "cell_type": "code",
      "metadata": {
        "id": "wkt8w4BB-2VG",
        "colab_type": "code",
        "colab": {}
      },
      "source": [
        "def final_sentiment(str):\n",
        "  if str[\"Text Blob\"]>0:\n",
        "    return 'positive'\n",
        "  if str[\"Text Blob\"]<0:\n",
        "    return 'negative'\n",
        "  if str[\"Text Blob\"]==0:\n",
        "    return 'neutral'"
      ],
      "execution_count": 0,
      "outputs": []
    },
    {
      "cell_type": "code",
      "metadata": {
        "id": "v0C_j9gdA0Wf",
        "colab_type": "code",
        "colab": {}
      },
      "source": [
        "df[\"final_sentiment\"] = df.Sentiments.apply(final_sentiment)"
      ],
      "execution_count": 0,
      "outputs": []
    },
    {
      "cell_type": "code",
      "metadata": {
        "id": "Job-ovbutoj2",
        "colab_type": "code",
        "colab": {}
      },
      "source": [
        "# Dropping all Tweets with Sentiment Irrelevant since it cannot be classified using Polarity\n",
        "df = df[df['Sentiment'] != 'irrelevant']"
      ],
      "execution_count": 0,
      "outputs": []
    },
    {
      "cell_type": "code",
      "metadata": {
        "id": "ULFYORpSBjUK",
        "colab_type": "code",
        "outputId": "79e88686-3668-4e18-cb28-d013f84b5b92",
        "colab": {
          "base_uri": "https://localhost:8080/",
          "height": 34
        }
      },
      "source": [
        "df['Sentiment'] = pd.Categorical(df['Sentiment'])\n",
        "df['Sentiment'].cat.categories"
      ],
      "execution_count": 20,
      "outputs": [
        {
          "output_type": "execute_result",
          "data": {
            "text/plain": [
              "Index(['negative', 'neutral', 'positive'], dtype='object')"
            ]
          },
          "metadata": {
            "tags": []
          },
          "execution_count": 20
        }
      ]
    },
    {
      "cell_type": "code",
      "metadata": {
        "id": "U9-mafg1CyZN",
        "colab_type": "code",
        "outputId": "c3e3615e-ba6f-46b1-abfd-ecf810aef821",
        "colab": {
          "base_uri": "https://localhost:8080/",
          "height": 34
        }
      },
      "source": [
        "df['final_sentiment'] = pd.Categorical(df['final_sentiment'])\n",
        "df['final_sentiment'].cat.categories"
      ],
      "execution_count": 21,
      "outputs": [
        {
          "output_type": "execute_result",
          "data": {
            "text/plain": [
              "Index(['negative', 'neutral', 'positive'], dtype='object')"
            ]
          },
          "metadata": {
            "tags": []
          },
          "execution_count": 21
        }
      ]
    },
    {
      "cell_type": "code",
      "metadata": {
        "id": "o1D9-PRaBWHR",
        "colab_type": "code",
        "outputId": "ae711820-481b-45c7-ab0a-b3ad80ccb92a",
        "colab": {
          "base_uri": "https://localhost:8080/",
          "height": 86
        }
      },
      "source": [
        "result = confusion_matrix(df[\"Sentiment\"],df[\"final_sentiment\"])\n",
        "print(\"Confusion Matrix using TextBlob:\")\n",
        "print(result)"
      ],
      "execution_count": 22,
      "outputs": [
        {
          "output_type": "stream",
          "text": [
            "Confusion Matrix using TextBlob:\n",
            "[[ 234  171  167]\n",
            " [ 201 1213  919]\n",
            " [  38  124  357]]\n"
          ],
          "name": "stdout"
        }
      ]
    },
    {
      "cell_type": "code",
      "metadata": {
        "id": "TlySvvDHErXZ",
        "colab_type": "code",
        "outputId": "2c391e04-cedc-4726-b546-1724b3696a05",
        "colab": {
          "base_uri": "https://localhost:8080/",
          "height": 190
        }
      },
      "source": [
        "from sklearn.metrics import classification_report\n",
        "print(classification_report(df[\"Sentiment\"],df[\"final_sentiment\"]))"
      ],
      "execution_count": 23,
      "outputs": [
        {
          "output_type": "stream",
          "text": [
            "              precision    recall  f1-score   support\n",
            "\n",
            "    negative       0.49      0.41      0.45       572\n",
            "     neutral       0.80      0.52      0.63      2333\n",
            "    positive       0.25      0.69      0.36       519\n",
            "\n",
            "    accuracy                           0.53      3424\n",
            "   macro avg       0.52      0.54      0.48      3424\n",
            "weighted avg       0.67      0.53      0.56      3424\n",
            "\n"
          ],
          "name": "stdout"
        }
      ]
    },
    {
      "cell_type": "markdown",
      "metadata": {
        "id": "oWy0fE8WeSlP",
        "colab_type": "text"
      },
      "source": [
        "# **Similarity of Reviews and Tweets using GloVe**"
      ]
    },
    {
      "cell_type": "code",
      "metadata": {
        "id": "MvBBDy62F4WF",
        "colab_type": "code",
        "outputId": "68873bf4-0626-465e-f02d-30f7437fc7d5",
        "colab": {
          "base_uri": "https://localhost:8080/",
          "height": 245
        }
      },
      "source": [
        "!pip install glove_python"
      ],
      "execution_count": 24,
      "outputs": [
        {
          "output_type": "stream",
          "text": [
            "Collecting glove_python\n",
            "\u001b[?25l  Downloading https://files.pythonhosted.org/packages/3e/79/7e7e548dd9dcb741935d031117f4bed133276c2a047aadad42f1552d1771/glove_python-0.1.0.tar.gz (263kB)\n",
            "\r\u001b[K     |█▎                              | 10kB 14.4MB/s eta 0:00:01\r\u001b[K     |██▌                             | 20kB 1.7MB/s eta 0:00:01\r\u001b[K     |███▊                            | 30kB 2.5MB/s eta 0:00:01\r\u001b[K     |█████                           | 40kB 1.7MB/s eta 0:00:01\r\u001b[K     |██████▎                         | 51kB 2.0MB/s eta 0:00:01\r\u001b[K     |███████▌                        | 61kB 2.4MB/s eta 0:00:01\r\u001b[K     |████████▊                       | 71kB 2.8MB/s eta 0:00:01\r\u001b[K     |██████████                      | 81kB 3.2MB/s eta 0:00:01\r\u001b[K     |███████████▏                    | 92kB 3.6MB/s eta 0:00:01\r\u001b[K     |████████████▌                   | 102kB 2.7MB/s eta 0:00:01\r\u001b[K     |█████████████▊                  | 112kB 2.7MB/s eta 0:00:01\r\u001b[K     |███████████████                 | 122kB 2.7MB/s eta 0:00:01\r\u001b[K     |████████████████▏               | 133kB 2.7MB/s eta 0:00:01\r\u001b[K     |█████████████████▍              | 143kB 2.7MB/s eta 0:00:01\r\u001b[K     |██████████████████▊             | 153kB 2.7MB/s eta 0:00:01\r\u001b[K     |████████████████████            | 163kB 2.7MB/s eta 0:00:01\r\u001b[K     |█████████████████████▏          | 174kB 2.7MB/s eta 0:00:01\r\u001b[K     |██████████████████████▍         | 184kB 2.7MB/s eta 0:00:01\r\u001b[K     |███████████████████████▋        | 194kB 2.7MB/s eta 0:00:01\r\u001b[K     |█████████████████████████       | 204kB 2.7MB/s eta 0:00:01\r\u001b[K     |██████████████████████████▏     | 215kB 2.7MB/s eta 0:00:01\r\u001b[K     |███████████████████████████▍    | 225kB 2.7MB/s eta 0:00:01\r\u001b[K     |████████████████████████████▋   | 235kB 2.7MB/s eta 0:00:01\r\u001b[K     |█████████████████████████████▉  | 245kB 2.7MB/s eta 0:00:01\r\u001b[K     |███████████████████████████████▏| 256kB 2.7MB/s eta 0:00:01\r\u001b[K     |████████████████████████████████| 266kB 2.7MB/s \n",
            "\u001b[?25hRequirement already satisfied: numpy in /usr/local/lib/python3.6/dist-packages (from glove_python) (1.17.4)\n",
            "Requirement already satisfied: scipy in /usr/local/lib/python3.6/dist-packages (from glove_python) (1.3.3)\n",
            "Building wheels for collected packages: glove-python\n",
            "  Building wheel for glove-python (setup.py) ... \u001b[?25l\u001b[?25hdone\n",
            "  Created wheel for glove-python: filename=glove_python-0.1.0-cp36-cp36m-linux_x86_64.whl size=700300 sha256=f5de75e5c2b57fc520c71e31783ff3b9e40d1d41c32980f87d32c88753704bc1\n",
            "  Stored in directory: /root/.cache/pip/wheels/88/4b/6d/10c0d2ad32c9d9d68beec9694a6f0b6e83ab1662a90a089a4b\n",
            "Successfully built glove-python\n",
            "Installing collected packages: glove-python\n",
            "Successfully installed glove-python-0.1.0\n"
          ],
          "name": "stdout"
        }
      ]
    },
    {
      "cell_type": "code",
      "metadata": {
        "id": "aFj8Zi9Vdj31",
        "colab_type": "code",
        "colab": {}
      },
      "source": [
        "from glove import Corpus, Glove"
      ],
      "execution_count": 0,
      "outputs": []
    },
    {
      "cell_type": "code",
      "metadata": {
        "id": "tn_X78CUgTsF",
        "colab_type": "code",
        "outputId": "befc7c58-7376-433f-c332-8a2edae258c5",
        "colab": {
          "base_uri": "https://localhost:8080/",
          "height": 69
        }
      },
      "source": [
        "import nltk\n",
        "nltk.download('punkt')"
      ],
      "execution_count": 26,
      "outputs": [
        {
          "output_type": "stream",
          "text": [
            "[nltk_data] Downloading package punkt to /root/nltk_data...\n",
            "[nltk_data]   Unzipping tokenizers/punkt.zip.\n"
          ],
          "name": "stdout"
        },
        {
          "output_type": "execute_result",
          "data": {
            "text/plain": [
              "True"
            ]
          },
          "metadata": {
            "tags": []
          },
          "execution_count": 26
        }
      ]
    },
    {
      "cell_type": "code",
      "metadata": {
        "id": "jwMKCJ83lGjz",
        "colab_type": "code",
        "colab": {}
      },
      "source": [
        "Tweets = df[\"TweetText\"].apply(nltk.word_tokenize)"
      ],
      "execution_count": 0,
      "outputs": []
    },
    {
      "cell_type": "code",
      "metadata": {
        "id": "je8jBOE4e6uy",
        "colab_type": "code",
        "colab": {}
      },
      "source": [
        "corpus = Corpus()\n",
        "corpus.fit(Tweets,window=10)"
      ],
      "execution_count": 0,
      "outputs": []
    },
    {
      "cell_type": "code",
      "metadata": {
        "id": "yRY2k4ldlqIh",
        "colab_type": "code",
        "colab": {}
      },
      "source": [
        "glove = Glove(no_components=100, learning_rate=0.05)"
      ],
      "execution_count": 0,
      "outputs": []
    },
    {
      "cell_type": "code",
      "metadata": {
        "id": "XN5BJmEvlrWs",
        "colab_type": "code",
        "outputId": "0310ae71-fd04-4d7a-ad67-836fb4837fb5",
        "colab": {
          "base_uri": "https://localhost:8080/",
          "height": 554
        }
      },
      "source": [
        "glove.fit(corpus.matrix, epochs=30, no_threads=4, verbose=True)"
      ],
      "execution_count": 30,
      "outputs": [
        {
          "output_type": "stream",
          "text": [
            "Performing 30 training epochs with 4 threads\n",
            "Epoch 0\n",
            "Epoch 1\n",
            "Epoch 2\n",
            "Epoch 3\n",
            "Epoch 4\n",
            "Epoch 5\n",
            "Epoch 6\n",
            "Epoch 7\n",
            "Epoch 8\n",
            "Epoch 9\n",
            "Epoch 10\n",
            "Epoch 11\n",
            "Epoch 12\n",
            "Epoch 13\n",
            "Epoch 14\n",
            "Epoch 15\n",
            "Epoch 16\n",
            "Epoch 17\n",
            "Epoch 18\n",
            "Epoch 19\n",
            "Epoch 20\n",
            "Epoch 21\n",
            "Epoch 22\n",
            "Epoch 23\n",
            "Epoch 24\n",
            "Epoch 25\n",
            "Epoch 26\n",
            "Epoch 27\n",
            "Epoch 28\n",
            "Epoch 29\n"
          ],
          "name": "stdout"
        }
      ]
    },
    {
      "cell_type": "code",
      "metadata": {
        "id": "aR7oQrB2lyqq",
        "colab_type": "code",
        "colab": {}
      },
      "source": [
        "glove.add_dictionary(corpus.dictionary)"
      ],
      "execution_count": 0,
      "outputs": []
    },
    {
      "cell_type": "code",
      "metadata": {
        "id": "utF9JH-Il2F7",
        "colab_type": "code",
        "outputId": "cbb9e763-57f0-4d72-f171-85f1efb1ec13",
        "colab": {
          "base_uri": "https://localhost:8080/",
          "height": 86
        }
      },
      "source": [
        "glove.most_similar('siri')"
      ],
      "execution_count": 35,
      "outputs": [
        {
          "output_type": "execute_result",
          "data": {
            "text/plain": [
              "[('ios5', 0.9929521752923832),\n",
              " ('iphone4s', 0.9883325135859712),\n",
              " ('TWITTER', 0.9700626210539401),\n",
              " ('iphone4S', 0.9699050519069947)]"
            ]
          },
          "metadata": {
            "tags": []
          },
          "execution_count": 35
        }
      ]
    }
  ]
}