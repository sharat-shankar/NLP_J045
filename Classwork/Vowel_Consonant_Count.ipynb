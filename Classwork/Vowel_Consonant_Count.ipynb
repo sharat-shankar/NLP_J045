{
  "nbformat": 4,
  "nbformat_minor": 0,
  "metadata": {
    "colab": {
      "name": "NLP 07-12-2019",
      "provenance": [],
      "include_colab_link": true
    },
    "kernelspec": {
      "name": "python3",
      "display_name": "Python 3"
    }
  },
  "cells": [
    {
      "cell_type": "markdown",
      "metadata": {
        "id": "view-in-github",
        "colab_type": "text"
      },
      "source": [
        "<a href=\"https://colab.research.google.com/github/sharat-shankar/NLP_J045/blob/master/Classwork/Vowel_Consonant_Count.ipynb\" target=\"_parent\"><img src=\"https://colab.research.google.com/assets/colab-badge.svg\" alt=\"Open In Colab\"/></a>"
      ]
    },
    {
      "cell_type": "code",
      "metadata": {
        "id": "qqOmtsvffCYF",
        "colab_type": "code",
        "colab": {}
      },
      "source": [
        "import pandas as pd"
      ],
      "execution_count": 0,
      "outputs": []
    },
    {
      "cell_type": "code",
      "metadata": {
        "id": "q1EMao2miQms",
        "colab_type": "code",
        "colab": {}
      },
      "source": [
        "data = pd.read_json(\"http://snap.stanford.edu/data/amazon/productGraph/categoryFiles/reviews_Office_Products_5.json.gz\",lines=True)"
      ],
      "execution_count": 0,
      "outputs": []
    },
    {
      "cell_type": "code",
      "metadata": {
        "id": "LX8P7ZvLiUVf",
        "colab_type": "code",
        "colab": {}
      },
      "source": [
        "vowels = ['a','e','i','o','u']\n",
        "consonants = ['b', 'c', 'd', 'f', 'g', 'h', 'j', 'k', 'l', 'm', 'n', 'p', 'q', 'r', 's', 't', 'v', 'w', 'x', 'y', 'z']"
      ],
      "execution_count": 0,
      "outputs": []
    },
    {
      "cell_type": "code",
      "metadata": {
        "id": "kPsdr4G8i3Az",
        "colab_type": "code",
        "colab": {}
      },
      "source": [
        "def counts(str):\n",
        "    count = dict()\n",
        "    vowel_count = 0\n",
        "    consonant_count = 0\n",
        "    word_count = 0\n",
        "    words = str.split()\n",
        "\n",
        "    for word in words:\n",
        "      word_count+=1\n",
        "\n",
        "    for i in str:\n",
        "      if i in vowels:\n",
        "        vowel_count+=1\n",
        "      if i in consonants:\n",
        "        consonant_count+=1\n",
        "    \n",
        "    count['Vowels'] = vowel_count\n",
        "    count['Consonants'] = consonant_count\n",
        "    count['Words'] = word_count\n",
        "\n",
        "    return count"
      ],
      "execution_count": 0,
      "outputs": []
    },
    {
      "cell_type": "code",
      "metadata": {
        "id": "LPajkHExjuRP",
        "colab_type": "code",
        "colab": {}
      },
      "source": [
        "data[\"reviewTextCount\"] = data.reviewText.apply(counts)"
      ],
      "execution_count": 0,
      "outputs": []
    },
    {
      "cell_type": "code",
      "metadata": {
        "id": "YokQAWK2j9Og",
        "colab_type": "code",
        "colab": {
          "base_uri": "https://localhost:8080/",
          "height": 225
        },
        "outputId": "e3d91fe7-e8cb-49b8-964a-f6b4ad51d3a4"
      },
      "source": [
        "data.reviewTextCount"
      ],
      "execution_count": 8,
      "outputs": [
        {
          "output_type": "execute_result",
          "data": {
            "text/plain": [
              "0         {'Vowels': 267, 'Consonants': 411, 'Words': 186}\n",
              "1        {'Vowels': 1318, 'Consonants': 2231, 'Words': ...\n",
              "2          {'Vowels': 132, 'Consonants': 220, 'Words': 96}\n",
              "3        {'Vowels': 1049, 'Consonants': 1691, 'Words': ...\n",
              "4         {'Vowels': 200, 'Consonants': 317, 'Words': 120}\n",
              "                               ...                        \n",
              "53253     {'Vowels': 225, 'Consonants': 347, 'Words': 146}\n",
              "53254    {'Vowels': 815, 'Consonants': 1268, 'Words': 498}\n",
              "53255     {'Vowels': 411, 'Consonants': 676, 'Words': 290}\n",
              "53256     {'Vowels': 222, 'Consonants': 331, 'Words': 147}\n",
              "53257     {'Vowels': 564, 'Consonants': 886, 'Words': 337}\n",
              "Name: reviewTextCount, Length: 53258, dtype: object"
            ]
          },
          "metadata": {
            "tags": []
          },
          "execution_count": 8
        }
      ]
    }
  ]
}