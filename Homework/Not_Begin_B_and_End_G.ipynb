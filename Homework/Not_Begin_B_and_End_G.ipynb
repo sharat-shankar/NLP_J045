{
  "nbformat": 4,
  "nbformat_minor": 0,
  "metadata": {
    "colab": {
      "name": "NLP 07-12-2019 HW",
      "provenance": [],
      "include_colab_link": true
    },
    "kernelspec": {
      "name": "python3",
      "display_name": "Python 3"
    }
  },
  "cells": [
    {
      "cell_type": "markdown",
      "metadata": {
        "id": "view-in-github",
        "colab_type": "text"
      },
      "source": [
        "<a href=\"https://colab.research.google.com/github/sharat-shankar/NLP_J045/blob/master/Homework/Not_Begin_B_and_End_G.ipynb\" target=\"_parent\"><img src=\"https://colab.research.google.com/assets/colab-badge.svg\" alt=\"Open In Colab\"/></a>"
      ]
    },
    {
      "cell_type": "code",
      "metadata": {
        "id": "07de3tFIcNDq",
        "colab_type": "code",
        "colab": {}
      },
      "source": [
        "import pandas as pd\n",
        "import re"
      ],
      "execution_count": 0,
      "outputs": []
    },
    {
      "cell_type": "code",
      "metadata": {
        "id": "iDNJ07mmcVlU",
        "colab_type": "code",
        "colab": {}
      },
      "source": [
        "#Reading Data\n",
        "data = pd.read_json(\"http://snap.stanford.edu/data/amazon/productGraph/categoryFiles/reviews_Office_Products_5.json.gz\",lines=True)"
      ],
      "execution_count": 0,
      "outputs": []
    },
    {
      "cell_type": "markdown",
      "metadata": {
        "id": "5mzQdqlpcXBb",
        "colab_type": "text"
      },
      "source": [
        "# **Finding all the words that DO NOT start with B OR end with G**\n"
      ]
    },
    {
      "cell_type": "code",
      "metadata": {
        "id": "cbNkWTQxcdGy",
        "colab_type": "code",
        "colab": {}
      },
      "source": [
        "def not_bg_find(string):\n",
        "   \n",
        "  string = re.sub(r'[^\\w\\s]',' ',string)\n",
        "  # re.findall(r\"\\b[^\\WbB]\\w+[^\\WgG]\\b\",str)\n",
        "  not_begin_b = re.findall(r\"\\b[^\\WbB]\\w+\\b\",string)\n",
        "  not_b_to_string = ' '.join([str(x) for x in not_begin_b]) \n",
        "  not_end_g = re.findall(r\"\\b\\w+[^\\WgG]\\b\",not_b_to_string)\n",
        "\n",
        "  return set(not_end_g)"
      ],
      "execution_count": 0,
      "outputs": []
    },
    {
      "cell_type": "code",
      "metadata": {
        "id": "a2m14ExTrecI",
        "colab_type": "code",
        "colab": {
          "base_uri": "https://localhost:8080/",
          "height": 34
        },
        "outputId": "dc0bfff5-8ab1-4367-a6de-9db3d1bcf937"
      },
      "source": [
        "string = 'An old dog jumped over the quick brown fox'\n",
        "print(not_bg_find(string))"
      ],
      "execution_count": 76,
      "outputs": [
        {
          "output_type": "stream",
          "text": [
            "{'jumped', 'over', 'the', 'An', 'fox', 'quick', 'old'}\n"
          ],
          "name": "stdout"
        }
      ]
    },
    {
      "cell_type": "code",
      "metadata": {
        "id": "XIHsEa-qcmeS",
        "colab_type": "code",
        "colab": {}
      },
      "source": [
        "data[\"reviewTextNotBG\"] = data.reviewText.apply(not_bg_find)\n",
        "data[\"summaryNotBG\"] = data.summary.apply(not_bg_find)"
      ],
      "execution_count": 0,
      "outputs": []
    },
    {
      "cell_type": "code",
      "metadata": {
        "id": "EqeV2Izqczm7",
        "colab_type": "code",
        "colab": {
          "base_uri": "https://localhost:8080/",
          "height": 225
        },
        "outputId": "80c0a1c2-ddae-44e6-a74f-223c87ca4e0b"
      },
      "source": [
        "data.reviewTextNotBG"
      ],
      "execution_count": 78,
      "outputs": [
        {
          "output_type": "execute_result",
          "data": {
            "text/plain": [
              "0        {manual, served, solid, it, 2002, sketchy, way...\n",
              "1        {always, HP10Bs, finance, indeed, it, user, no...\n",
              "2        {12C, and, new, flawless, if, HP, functions, l...\n",
              "3        {always, durability, certain, why, accurate, W...\n",
              "4        {Excel, and, complex, tool, used, as, don, eas...\n",
              "                               ...                        \n",
              "53253    {enough, it, from, panel, spread, top, swings,...\n",
              "53254    {let, package, took, displayed, connected, it,...\n",
              "53255    {manuals, accurate, charged, it, assembly, 100...\n",
              "53256    {always, accurate, took, it, items, from, no, ...\n",
              "53257    {controller, accurate, largest, enough, it, ma...\n",
              "Name: reviewTextNotBG, Length: 53258, dtype: object"
            ]
          },
          "metadata": {
            "tags": []
          },
          "execution_count": 78
        }
      ]
    },
    {
      "cell_type": "code",
      "metadata": {
        "id": "FvT3vqFrc5wK",
        "colab_type": "code",
        "colab": {
          "base_uri": "https://localhost:8080/",
          "height": 225
        },
        "outputId": "8083082a-dbd9-4a16-8867-0c7e1c2a588b"
      },
      "source": [
        "data.summaryNotBG"
      ],
      "execution_count": 79,
      "outputs": [
        {
          "output_type": "execute_result",
          "data": {
            "text/plain": [
              "0                    {and, performer, time, solid, friend}\n",
              "1        {GOLD, HP12c, the, don, of, so, up, Price, gol...\n",
              "2        {durable, like, functionality, not, old, HPs, ...\n",
              "3        {One, the, of, an, almost, species, last, exti...\n",
              "4                                             {the, Still}\n",
              "                               ...                        \n",
              "53253                 {and, Portable, easy, use, to, very}\n",
              "53254    {and, Recommended, Postal, Easy, alone, Stand,...\n",
              "53255      {scale, accurate, postal, foolproof, Extremely}\n",
              "53256                          {and, Easy, Accurate, Fast}\n",
              "53257              {Great, Postal, on, Scale, Value, Good}\n",
              "Name: summaryNotBG, Length: 53258, dtype: object"
            ]
          },
          "metadata": {
            "tags": []
          },
          "execution_count": 79
        }
      ]
    }
  ]
}